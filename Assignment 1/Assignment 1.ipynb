{
 "cells": [
  {
   "cell_type": "code",
   "execution_count": null,
   "id": "d5c2d0b1",
   "metadata": {},
   "outputs": [],
   "source": [
    "import gymnasium as gym\n",
    "\n",
    "env1 = gym.make(\"MountainCar-v0\", render_mode=\"human\")\n",
    "observation, info = env1.reset()\n",
    "\n",
    "def velocity(observation):\n",
    "    # If the car is moving backwards, velocity is negative; if moving forward, velocity is positive.\n",
    "    # observation[1] is the velocity of the car.\n",
    "    return observation[1]\n",
    "\n",
    "for _ in range(500):\n",
    "    action = env1.action_space.sample()  # Take a random action.\n",
    "    observation, reward, terminated, truncated, info = env1.step(action)\n",
    "    print(f\"Action: {action}, Observation: {observation}, Reward: {reward}\")  # Log details for debugging.\n",
    "    if terminated or truncated:\n",
    "        print(\"Episode ended. Resetting environment.\")  # Log when the environment resets.\n",
    "        observation, info = env1.reset()\n",
    "\n",
    "env1.close()"
   ]
  },
  {
   "cell_type": "code",
   "execution_count": 2,
   "id": "46304b27",
   "metadata": {},
   "outputs": [
    {
     "name": "stdout",
     "output_type": "stream",
     "text": [
      "MountainCar-v0\n",
      "Observation space: Box([-1.2  -0.07], [0.6  0.07], (2,), float32)\n",
      "Action space: Discrete(3)\n"
     ]
    }
   ],
   "source": [
    "env1 = gym.make(\"MountainCar-v0\")\n",
    "print(\"MountainCar-v0\")\n",
    "print(\"Observation space:\", env1.observation_space)\n",
    "print(\"Action space:\", env1.action_space)\n",
    "env1.close()"
   ]
  },
  {
   "cell_type": "markdown",
   "id": "3a8187bf",
   "metadata": {},
   "source": [
    "**MountainCar-v0**\n",
    "\n",
    "- **Observation space:** 2 floats (position, velocity)\n",
    "- **Action space:** Discrete(3) — push left, no push, push right\n",
    "- **Goal:** Drive up the mountain slope to reach the flag\n",
    "- **Episode duration:** Up to 200 steps\n",
    "- **Challenges:** Overcoming gravity, building momentum"
   ]
  },
  {
   "cell_type": "code",
   "execution_count": 3,
   "id": "b970bcfb",
   "metadata": {},
   "outputs": [],
   "source": [
    "env2 = gym.make(\"Pendulum-v1\", render_mode=\"human\")\n",
    "observation, info = env2.reset(seed=42)\n",
    "\n",
    "for _ in range(500):\n",
    "    action = env2.action_space.sample()\n",
    "    observation, reward, terminated, truncated, info = env2.step(action)\n",
    "    if terminated or truncated:\n",
    "        observation, info = env2.reset()\n",
    "\n",
    "env2.close()"
   ]
  },
  {
   "cell_type": "code",
   "execution_count": 4,
   "id": "7ef2a5b2",
   "metadata": {},
   "outputs": [
    {
     "name": "stdout",
     "output_type": "stream",
     "text": [
      "\n",
      "Pendulum-v1\n",
      "Observation space: Box([-1. -1. -8.], [1. 1. 8.], (3,), float32)\n",
      "Action space: Box(-2.0, 2.0, (1,), float32)\n"
     ]
    }
   ],
   "source": [
    "env2 = gym.make(\"Pendulum-v1\")\n",
    "print(\"\\nPendulum-v1\")\n",
    "print(\"Observation space:\", env2.observation_space)\n",
    "print(\"Action space:\", env2.action_space)\n",
    "env2.close()"
   ]
  },
  {
   "cell_type": "markdown",
   "id": "6f3f9781",
   "metadata": {},
   "source": [
    "**Pendulum-v1**\n",
    "\n",
    "- **Observation space:** 3 floats (cos(theta), sin(theta), angular velocity)\n",
    "- **Action space:** Continuous 1D (torque)\n",
    "- **Goal:** Swing the pendulum upright and keep it balanced\n",
    "- **Episode duration:** Up to 200 steps\n",
    "- **Challenges:** Balancing control, continuous action space"
   ]
  }
 ],
 "metadata": {
  "kernelspec": {
   "display_name": "base",
   "language": "python",
   "name": "python3"
  },
  "language_info": {
   "codemirror_mode": {
    "name": "ipython",
    "version": 3
   },
   "file_extension": ".py",
   "mimetype": "text/x-python",
   "name": "python",
   "nbconvert_exporter": "python",
   "pygments_lexer": "ipython3",
   "version": "3.10.9"
  }
 },
 "nbformat": 4,
 "nbformat_minor": 5
}
